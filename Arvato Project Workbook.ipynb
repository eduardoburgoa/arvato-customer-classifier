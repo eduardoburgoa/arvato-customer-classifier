{
 "cells": [
  {
   "cell_type": "markdown",
   "metadata": {},
   "source": [
    "# Capstone Project: Create a Customer Segmentation Report for Arvato Financial Services\n",
    "\n",
    "In this project, you will analyze demographics data for customers of a mail-order sales company in Germany, comparing it against demographics information for the general population. You'll use unsupervised learning techniques to perform customer segmentation, identifying the parts of the population that best describe the core customer base of the company. Then, you'll apply what you've learned on a third dataset with demographics information for targets of a marketing campaign for the company, and use a model to predict which individuals are most likely to convert into becoming customers for the company. The data that you will use has been provided by our partners at Bertelsmann Arvato Analytics, and represents a real-life data science task.\n",
    "\n",
    "If you completed the first term of this program, you will be familiar with the first part of this project, from the unsupervised learning project. The versions of those two datasets used in this project will include many more features and has not been pre-cleaned. You are also free to choose whatever approach you'd like to analyzing the data rather than follow pre-determined steps. In your work on this project, make sure that you carefully document your steps and decisions, since your main deliverable for this project will be a blog post reporting your findings."
   ]
  },
  {
   "cell_type": "code",
   "execution_count": 1,
   "metadata": {},
   "outputs": [],
   "source": [
    "# import libraries here; add more as necessary\n",
    "import numpy as np\n",
    "import pandas as pd\n",
    "import matplotlib.pyplot as plt\n",
    "import seaborn as sns\n",
    "from scipy.spatial.distance import cdist\n",
    "from sklearn.calibration import CalibratedClassifierCV\n",
    "\n",
    "from sklearn.kernel_approximation import RBFSampler\n",
    "from xgboost import XGBClassifier\n",
    "from sklearn.ensemble import VotingClassifier\n",
    "from sklearn.svm import SVC\n",
    "from sklearn.neighbors import KNeighborsClassifier\n",
    "from sklearn.base import BaseEstimator, TransformerMixin\n",
    "from sklearn.cluster import KMeans\n",
    "from sklearn.decomposition import PCA\n",
    "\n",
    "#from sklearn.pipeline import Pipeline\n",
    "from imblearn.pipeline import Pipeline\n",
    "from sklearn.linear_model import SGDClassifier\n",
    "from sklearn.compose import make_column_transformer\n",
    "from sklearn.preprocessing import OneHotEncoder, PowerTransformer, StandardScaler\n",
    "from sklearn.feature_extraction import FeatureHasher\n",
    "from sklearn.impute import SimpleImputer, KNNImputer\n",
    "from sklearn.feature_selection import SelectKBest\n",
    "from sklearn.metrics import classification_report, plot_roc_curve, roc_curve, auc\n",
    "\n",
    "from sklearn.model_selection import train_test_split, GridSearchCV \n",
    "from imblearn.ensemble import BalancedRandomForestClassifier, RUSBoostClassifier, BalancedBaggingClassifier\n",
    "\n",
    "from imblearn.under_sampling import RandomUnderSampler, TomekLinks\n",
    "from imblearn.over_sampling import SMOTE\n",
    "\n",
    "# magic word for producing visualizations in notebook\n",
    "%matplotlib inline"
   ]
  },
  {
   "cell_type": "markdown",
   "metadata": {},
   "source": [
    "## Part 0: Get to Know the Data\n",
    "\n",
    "There are four data files associated with this project:\n",
    "\n",
    "- `Udacity_AZDIAS_052018.csv`: Demographics data for the general population of Germany; 891 211 persons (rows) x 366 features (columns).\n",
    "- `Udacity_CUSTOMERS_052018.csv`: Demographics data for customers of a mail-order company; 191 652 persons (rows) x 369 features (columns).\n",
    "- `Udacity_MAILOUT_052018_TRAIN.csv`: Demographics data for individuals who were targets of a marketing campaign; 42 982 persons (rows) x 367 (columns).\n",
    "- `Udacity_MAILOUT_052018_TEST.csv`: Demographics data for individuals who were targets of a marketing campaign; 42 833 persons (rows) x 366 (columns).\n",
    "\n",
    "Each row of the demographics files represents a single person, but also includes information outside of individuals, including information about their household, building, and neighborhood. Use the information from the first two files to figure out how customers (\"CUSTOMERS\") are similar to or differ from the general population at large (\"AZDIAS\"), then use your analysis to make predictions on the other two files (\"MAILOUT\"), predicting which recipients are most likely to become a customer for the mail-order company.\n",
    "\n",
    "The \"CUSTOMERS\" file contains three extra columns ('CUSTOMER_GROUP', 'ONLINE_PURCHASE', and 'PRODUCT_GROUP'), which provide broad information about the customers depicted in the file. The original \"MAILOUT\" file included one additional column, \"RESPONSE\", which indicated whether or not each recipient became a customer of the company. For the \"TRAIN\" subset, this column has been retained, but in the \"TEST\" subset it has been removed; it is against that withheld column that your final predictions will be assessed in the Kaggle competition.\n",
    "\n",
    "Otherwise, all of the remaining columns are the same between the three data files. For more information about the columns depicted in the files, you can refer to two Excel spreadsheets provided in the workspace. [One of them](./DIAS Information Levels - Attributes 2017.xlsx) is a top-level list of attributes and descriptions, organized by informational category. [The other](./DIAS Attributes - Values 2017.xlsx) is a detailed mapping of data values for each feature in alphabetical order.\n",
    "\n",
    "In the below cell, we've provided some initial code to load in the first two datasets. Note for all of the `.csv` data files in this project that they're semicolon (`;`) delimited, so an additional argument in the [`read_csv()`](https://pandas.pydata.org/pandas-docs/stable/generated/pandas.read_csv.html) call has been included to read in the data properly. Also, considering the size of the datasets, it may take some time for them to load completely.\n",
    "\n",
    "You'll notice when the data is loaded in that a warning message will immediately pop up. Before you really start digging into the modeling and analysis, you're going to need to perform some cleaning. Take some time to browse the structure of the data and look over the informational spreadsheets to understand the data values. Make some decisions on which features to keep, which features to drop, and if any revisions need to be made on data formats. It'll be a good idea to create a function with pre-processing steps, since you'll need to clean all of the datasets before you work with them."
   ]
  },
  {
   "cell_type": "markdown",
   "metadata": {},
   "source": [
    "## Business Understanding\n",
    "The purpose of the analysis is to gain more understanding of Arvato customers compared to Germany population. There are two main objectives:\n",
    "\n",
    "1. The first objective is to obtain customer segments of Arvato customers and analyse how customers are similar to or differ the general population at large.\n",
    "\n",
    "2. Te second objective is to create a model to classifiy which targets of a mail campaign will be become customers.\n"
   ]
  },
  {
   "cell_type": "markdown",
   "metadata": {},
   "source": [
    "## Data Understanding\n",
    "We have 4 Datasets:\n",
    "- **Azdias**: includes demographics data for the general population of Germany; 891 211 persons (rows) x 366 features (columns).\n",
    "- **Customers**: Demographics data for customers of a mail-order company; 191 652 persons (rows) x 369 features (columns).\n",
    "- **Mailout train**: Demographics data for individuals who were targets of a marketing campaign; 42 982 persons (rows) x 367 (columns).\n",
    "- **Mailout test**: Demographics data for individuals who were targets of a marketing campaign; 42 833 persons (rows) x 366 (columns).\n",
    "\n"
   ]
  },
  {
   "cell_type": "code",
   "execution_count": 2,
   "metadata": {},
   "outputs": [
    {
     "name": "stderr",
     "output_type": "stream",
     "text": [
      "/Users/eduardoburgoa/anaconda3/lib/python3.7/site-packages/IPython/core/interactiveshell.py:3057: DtypeWarning: Columns (18,19) have mixed types. Specify dtype option on import or set low_memory=False.\n",
      "  interactivity=interactivity, compiler=compiler, result=result)\n"
     ]
    }
   ],
   "source": [
    "# load in the data\n",
    "azdias = pd.read_csv('data/Term2/capstone/arvato_data/Udacity_AZDIAS_052018.csv', sep=';')\n",
    "customers = pd.read_csv('data/Term2/capstone/arvato_data/Udacity_CUSTOMERS_052018.csv', sep=';')"
   ]
  },
  {
   "cell_type": "code",
   "execution_count": 3,
   "metadata": {},
   "outputs": [],
   "source": [
    "#### General population"
   ]
  },
  {
   "cell_type": "code",
   "execution_count": 4,
   "metadata": {},
   "outputs": [
    {
     "data": {
      "text/html": [
       "<div>\n",
       "<style scoped>\n",
       "    .dataframe tbody tr th:only-of-type {\n",
       "        vertical-align: middle;\n",
       "    }\n",
       "\n",
       "    .dataframe tbody tr th {\n",
       "        vertical-align: top;\n",
       "    }\n",
       "\n",
       "    .dataframe thead th {\n",
       "        text-align: right;\n",
       "    }\n",
       "</style>\n",
       "<table border=\"1\" class=\"dataframe\">\n",
       "  <thead>\n",
       "    <tr style=\"text-align: right;\">\n",
       "      <th></th>\n",
       "      <th>LNR</th>\n",
       "      <th>AGER_TYP</th>\n",
       "      <th>AKT_DAT_KL</th>\n",
       "      <th>ALTER_HH</th>\n",
       "      <th>ALTER_KIND1</th>\n",
       "      <th>ALTER_KIND2</th>\n",
       "      <th>ALTER_KIND3</th>\n",
       "      <th>ALTER_KIND4</th>\n",
       "      <th>ALTERSKATEGORIE_FEIN</th>\n",
       "      <th>ANZ_HAUSHALTE_AKTIV</th>\n",
       "      <th>...</th>\n",
       "      <th>VHN</th>\n",
       "      <th>VK_DHT4A</th>\n",
       "      <th>VK_DISTANZ</th>\n",
       "      <th>VK_ZG11</th>\n",
       "      <th>W_KEIT_KIND_HH</th>\n",
       "      <th>WOHNDAUER_2008</th>\n",
       "      <th>WOHNLAGE</th>\n",
       "      <th>ZABEOTYP</th>\n",
       "      <th>ANREDE_KZ</th>\n",
       "      <th>ALTERSKATEGORIE_GROB</th>\n",
       "    </tr>\n",
       "  </thead>\n",
       "  <tbody>\n",
       "    <tr>\n",
       "      <th>0</th>\n",
       "      <td>910215</td>\n",
       "      <td>-1</td>\n",
       "      <td>NaN</td>\n",
       "      <td>NaN</td>\n",
       "      <td>NaN</td>\n",
       "      <td>NaN</td>\n",
       "      <td>NaN</td>\n",
       "      <td>NaN</td>\n",
       "      <td>NaN</td>\n",
       "      <td>NaN</td>\n",
       "      <td>...</td>\n",
       "      <td>NaN</td>\n",
       "      <td>NaN</td>\n",
       "      <td>NaN</td>\n",
       "      <td>NaN</td>\n",
       "      <td>NaN</td>\n",
       "      <td>NaN</td>\n",
       "      <td>NaN</td>\n",
       "      <td>3</td>\n",
       "      <td>1</td>\n",
       "      <td>2</td>\n",
       "    </tr>\n",
       "    <tr>\n",
       "      <th>1</th>\n",
       "      <td>910220</td>\n",
       "      <td>-1</td>\n",
       "      <td>9.0</td>\n",
       "      <td>0.0</td>\n",
       "      <td>NaN</td>\n",
       "      <td>NaN</td>\n",
       "      <td>NaN</td>\n",
       "      <td>NaN</td>\n",
       "      <td>21.0</td>\n",
       "      <td>11.0</td>\n",
       "      <td>...</td>\n",
       "      <td>4.0</td>\n",
       "      <td>8.0</td>\n",
       "      <td>11.0</td>\n",
       "      <td>10.0</td>\n",
       "      <td>3.0</td>\n",
       "      <td>9.0</td>\n",
       "      <td>4.0</td>\n",
       "      <td>5</td>\n",
       "      <td>2</td>\n",
       "      <td>1</td>\n",
       "    </tr>\n",
       "    <tr>\n",
       "      <th>2</th>\n",
       "      <td>910225</td>\n",
       "      <td>-1</td>\n",
       "      <td>9.0</td>\n",
       "      <td>17.0</td>\n",
       "      <td>NaN</td>\n",
       "      <td>NaN</td>\n",
       "      <td>NaN</td>\n",
       "      <td>NaN</td>\n",
       "      <td>17.0</td>\n",
       "      <td>10.0</td>\n",
       "      <td>...</td>\n",
       "      <td>2.0</td>\n",
       "      <td>9.0</td>\n",
       "      <td>9.0</td>\n",
       "      <td>6.0</td>\n",
       "      <td>3.0</td>\n",
       "      <td>9.0</td>\n",
       "      <td>2.0</td>\n",
       "      <td>5</td>\n",
       "      <td>2</td>\n",
       "      <td>3</td>\n",
       "    </tr>\n",
       "    <tr>\n",
       "      <th>3</th>\n",
       "      <td>910226</td>\n",
       "      <td>2</td>\n",
       "      <td>1.0</td>\n",
       "      <td>13.0</td>\n",
       "      <td>NaN</td>\n",
       "      <td>NaN</td>\n",
       "      <td>NaN</td>\n",
       "      <td>NaN</td>\n",
       "      <td>13.0</td>\n",
       "      <td>1.0</td>\n",
       "      <td>...</td>\n",
       "      <td>0.0</td>\n",
       "      <td>7.0</td>\n",
       "      <td>10.0</td>\n",
       "      <td>11.0</td>\n",
       "      <td>NaN</td>\n",
       "      <td>9.0</td>\n",
       "      <td>7.0</td>\n",
       "      <td>3</td>\n",
       "      <td>2</td>\n",
       "      <td>4</td>\n",
       "    </tr>\n",
       "    <tr>\n",
       "      <th>4</th>\n",
       "      <td>910241</td>\n",
       "      <td>-1</td>\n",
       "      <td>1.0</td>\n",
       "      <td>20.0</td>\n",
       "      <td>NaN</td>\n",
       "      <td>NaN</td>\n",
       "      <td>NaN</td>\n",
       "      <td>NaN</td>\n",
       "      <td>14.0</td>\n",
       "      <td>3.0</td>\n",
       "      <td>...</td>\n",
       "      <td>2.0</td>\n",
       "      <td>3.0</td>\n",
       "      <td>5.0</td>\n",
       "      <td>4.0</td>\n",
       "      <td>2.0</td>\n",
       "      <td>9.0</td>\n",
       "      <td>3.0</td>\n",
       "      <td>4</td>\n",
       "      <td>1</td>\n",
       "      <td>3</td>\n",
       "    </tr>\n",
       "  </tbody>\n",
       "</table>\n",
       "<p>5 rows × 366 columns</p>\n",
       "</div>"
      ],
      "text/plain": [
       "      LNR  AGER_TYP  AKT_DAT_KL  ALTER_HH  ALTER_KIND1  ALTER_KIND2  \\\n",
       "0  910215        -1         NaN       NaN          NaN          NaN   \n",
       "1  910220        -1         9.0       0.0          NaN          NaN   \n",
       "2  910225        -1         9.0      17.0          NaN          NaN   \n",
       "3  910226         2         1.0      13.0          NaN          NaN   \n",
       "4  910241        -1         1.0      20.0          NaN          NaN   \n",
       "\n",
       "   ALTER_KIND3  ALTER_KIND4  ALTERSKATEGORIE_FEIN  ANZ_HAUSHALTE_AKTIV  ...  \\\n",
       "0          NaN          NaN                   NaN                  NaN  ...   \n",
       "1          NaN          NaN                  21.0                 11.0  ...   \n",
       "2          NaN          NaN                  17.0                 10.0  ...   \n",
       "3          NaN          NaN                  13.0                  1.0  ...   \n",
       "4          NaN          NaN                  14.0                  3.0  ...   \n",
       "\n",
       "   VHN  VK_DHT4A  VK_DISTANZ  VK_ZG11  W_KEIT_KIND_HH  WOHNDAUER_2008  \\\n",
       "0  NaN       NaN         NaN      NaN             NaN             NaN   \n",
       "1  4.0       8.0        11.0     10.0             3.0             9.0   \n",
       "2  2.0       9.0         9.0      6.0             3.0             9.0   \n",
       "3  0.0       7.0        10.0     11.0             NaN             9.0   \n",
       "4  2.0       3.0         5.0      4.0             2.0             9.0   \n",
       "\n",
       "   WOHNLAGE ZABEOTYP ANREDE_KZ ALTERSKATEGORIE_GROB  \n",
       "0       NaN        3         1                    2  \n",
       "1       4.0        5         2                    1  \n",
       "2       2.0        5         2                    3  \n",
       "3       7.0        3         2                    4  \n",
       "4       3.0        4         1                    3  \n",
       "\n",
       "[5 rows x 366 columns]"
      ]
     },
     "execution_count": 4,
     "metadata": {},
     "output_type": "execute_result"
    }
   ],
   "source": [
    "azdias.head()"
   ]
  },
  {
   "cell_type": "markdown",
   "metadata": {},
   "source": [
    "We see some null values let's check how many of the are."
   ]
  },
  {
   "cell_type": "code",
   "execution_count": 5,
   "metadata": {},
   "outputs": [],
   "source": [
    "def show_null_ratio(df):\n",
    "    column_ratio_list = list()\n",
    "\n",
    "    for column in df.columns:\n",
    "        mask = df[column].isnull()\n",
    "        null_ratio = sum(mask)/df.shape[0]\n",
    "        column_ratio_list.append({'column': column, 'null_ratio': null_ratio})\n",
    "    null_ratio_df = pd.DataFrame(column_ratio_list)\n",
    "    return null_ratio_df"
   ]
  },
  {
   "cell_type": "code",
   "execution_count": 6,
   "metadata": {
    "scrolled": true
   },
   "outputs": [],
   "source": [
    "null_ratio_azdias = show_null_ratio(azdias)"
   ]
  },
  {
   "cell_type": "code",
   "execution_count": 8,
   "metadata": {},
   "outputs": [
    {
     "data": {
      "image/png": "[encoded data removed]",
      "text/plain": [
       "<Figure size 1008x576 with 1 Axes>"
      ]
     },
     "metadata": {
      "needs_background": "light"
     },
     "output_type": "display_data"
    }
   ],
   "source": [
    "plt.figure(figsize=(14,8))\n",
    "\n",
    "data = null_ratio_azdias.query('null_ratio > 0.15').sort_values('null_ratio', ascending=False)\n",
    "x = data['column']\n",
    "y = data['null_ratio']\n",
    "plt.title('Ratio of missing values by feature')\n",
    "plt.ylabel('Ratio')\n",
    "plt.ylabel('Features')\n",
    "plt.bar(x, y)\n",
    "plt.xticks(rotation=90);"
   ]
  },
  {
   "cell_type": "markdown",
   "metadata": {},
   "source": [
    "Let's analyze categorical variables"
   ]
  },
  {
   "cell_type": "code",
   "execution_count": 9,
   "metadata": {},
   "outputs": [],
   "source": [
    "# Split categorical and numerical data\n",
    "def split_categorical_numerical(df):\n",
    "    column_names = df.columns\n",
    "    dtype_mapping = dict(df.dtypes)\n",
    "\n",
    "    categorical_vars = [c for c in column_names if dtype_mapping[c] == 'object'] \n",
    "    numerical_vars = [c for c in column_names if dtype_mapping[c] != 'object']\n",
    "    return categorical_vars, numerical_vars\n"
   ]
  },
  {
   "cell_type": "code",
   "execution_count": 10,
   "metadata": {},
   "outputs": [],
   "source": [
    "def categorical_total_values(df, categorical_vars):\n",
    "    column_total_value_list = list()\n",
    "    \n",
    "    for var in categorical_vars:\n",
    "        column_total_value_list.append({'column': var, 'total_values': df[var].unique().size})\n",
    "    column_total_value_df = pd.DataFrame(column_total_value_list)\n",
    "    return column_total_value_df"
   ]
  },
  {
   "cell_type": "code",
   "execution_count": 11,
   "metadata": {},
   "outputs": [],
   "source": [
    "categorical_vars, numerical_vars = split_categorical_numerical(azdias)"
   ]
  },
  {
   "cell_type": "code",
   "execution_count": 12,
   "metadata": {
    "scrolled": true
   },
   "outputs": [
    {
     "data": {
      "text/html": [
       "<div>\n",
       "<style scoped>\n",
       "    .dataframe tbody tr th:only-of-type {\n",
       "        vertical-align: middle;\n",
       "    }\n",
       "\n",
       "    .dataframe tbody tr th {\n",
       "        vertical-align: top;\n",
       "    }\n",
       "\n",
       "    .dataframe thead th {\n",
       "        text-align: right;\n",
       "    }\n",
       "</style>\n",
       "<table border=\"1\" class=\"dataframe\">\n",
       "  <thead>\n",
       "    <tr style=\"text-align: right;\">\n",
       "      <th></th>\n",
       "      <th>column</th>\n",
       "      <th>total_values</th>\n",
       "    </tr>\n",
       "  </thead>\n",
       "  <tbody>\n",
       "    <tr>\n",
       "      <th>0</th>\n",
       "      <td>CAMEO_DEU_2015</td>\n",
       "      <td>46</td>\n",
       "    </tr>\n",
       "    <tr>\n",
       "      <th>1</th>\n",
       "      <td>CAMEO_DEUG_2015</td>\n",
       "      <td>20</td>\n",
       "    </tr>\n",
       "    <tr>\n",
       "      <th>2</th>\n",
       "      <td>CAMEO_INTL_2015</td>\n",
       "      <td>44</td>\n",
       "    </tr>\n",
       "    <tr>\n",
       "      <th>3</th>\n",
       "      <td>D19_LETZTER_KAUF_BRANCHE</td>\n",
       "      <td>36</td>\n",
       "    </tr>\n",
       "    <tr>\n",
       "      <th>4</th>\n",
       "      <td>EINGEFUEGT_AM</td>\n",
       "      <td>5163</td>\n",
       "    </tr>\n",
       "    <tr>\n",
       "      <th>5</th>\n",
       "      <td>OST_WEST_KZ</td>\n",
       "      <td>3</td>\n",
       "    </tr>\n",
       "  </tbody>\n",
       "</table>\n",
       "</div>"
      ],
      "text/plain": [
       "                     column  total_values\n",
       "0            CAMEO_DEU_2015            46\n",
       "1           CAMEO_DEUG_2015            20\n",
       "2           CAMEO_INTL_2015            44\n",
       "3  D19_LETZTER_KAUF_BRANCHE            36\n",
       "4             EINGEFUEGT_AM          5163\n",
       "5               OST_WEST_KZ             3"
      ]
     },
     "execution_count": 12,
     "metadata": {},
     "output_type": "execute_result"
    }
   ],
   "source": [
    "categorical_total_values(azdias, categorical_vars)"
   ]
  },
  {
   "cell_type": "code",
   "execution_count": 13,
   "metadata": {},
   "outputs": [
    {
     "data": {
      "text/plain": [
       "8      78023\n",
       "9      62578\n",
       "6      61253\n",
       "4      60185\n",
       "8.0    56418\n",
       "3      50360\n",
       "2      48276\n",
       "9.0    45599\n",
       "7      45021\n",
       "6.0    44621\n",
       "4.0    43727\n",
       "3.0    36419\n",
       "2.0    34955\n",
       "7.0    32912\n",
       "5      32292\n",
       "5.0    23018\n",
       "1      20997\n",
       "1.0    15215\n",
       "X        373\n",
       "Name: CAMEO_DEUG_2015, dtype: int64"
      ]
     },
     "execution_count": 13,
     "metadata": {},
     "output_type": "execute_result"
    }
   ],
   "source": [
    "azdias['CAMEO_DEUG_2015'].value_counts()"
   ]
  },
  {
   "cell_type": "code",
   "execution_count": 14,
   "metadata": {},
   "outputs": [
    {
     "data": {
      "text/plain": [
       "51      77576\n",
       "51.0    56118\n",
       "41      53459\n",
       "24      52882\n",
       "41.0    38877\n",
       "24.0    38276\n",
       "14      36524\n",
       "43      32730\n",
       "14.0    26360\n",
       "54      26207\n",
       "43.0    23942\n",
       "25      22837\n",
       "54.0    19184\n",
       "22      19173\n",
       "25.0    16791\n",
       "23      15653\n",
       "13      15272\n",
       "45      15206\n",
       "22.0    13982\n",
       "55      13842\n",
       "52      11836\n",
       "23.0    11097\n",
       "13.0    11064\n",
       "31      11041\n",
       "45.0    10926\n",
       "34      10737\n",
       "55.0    10113\n",
       "15       9832\n",
       "52.0     8706\n",
       "44       8543\n",
       "31.0     7983\n",
       "34.0     7787\n",
       "12       7645\n",
       "15.0     7142\n",
       "44.0     6277\n",
       "35       6090\n",
       "32       6067\n",
       "33       5833\n",
       "12.0     5604\n",
       "32.0     4287\n",
       "35.0     4266\n",
       "33.0     4102\n",
       "XX        373\n",
       "Name: CAMEO_INTL_2015, dtype: int64"
      ]
     },
     "execution_count": 14,
     "metadata": {},
     "output_type": "execute_result"
    }
   ],
   "source": [
    "azdias['CAMEO_INTL_2015'].value_counts()"
   ]
  },
  {
   "cell_type": "markdown",
   "metadata": {},
   "source": [
    "`CAMEO_DEUG_2015`, `CAMEO_INTL_2015` have an undocumented `XX` value."
   ]
  },
  {
   "cell_type": "markdown",
   "metadata": {},
   "source": [
    "`EINGEFUEGT_AM` has a high number of categories. Let's check it."
   ]
  },
  {
   "cell_type": "code",
   "execution_count": 15,
   "metadata": {},
   "outputs": [
    {
     "data": {
      "text/plain": [
       "1992-02-10 00:00:00    383738\n",
       "1992-02-12 00:00:00    192264\n",
       "1995-02-07 00:00:00     11181\n",
       "2005-12-16 00:00:00      6291\n",
       "2003-11-18 00:00:00      6050\n",
       "Name: EINGEFUEGT_AM, dtype: int64"
      ]
     },
     "execution_count": 15,
     "metadata": {},
     "output_type": "execute_result"
    }
   ],
   "source": [
    "azdias['EINGEFUEGT_AM'].value_counts().nlargest(5)"
   ]
  },
  {
   "cell_type": "markdown",
   "metadata": {},
   "source": [
    "We check for duplicates"
   ]
  },
  {
   "cell_type": "code",
   "execution_count": 16,
   "metadata": {},
   "outputs": [
    {
     "data": {
      "text/plain": [
       "0"
      ]
     },
     "execution_count": 16,
     "metadata": {},
     "output_type": "execute_result"
    }
   ],
   "source": [
    "sum(azdias.duplicated(subset=['LNR']))"
   ]
  },
  {
   "cell_type": "markdown",
   "metadata": {
    "scrolled": true
   },
   "source": [
    "###### customers"
   ]
  },
  {
   "cell_type": "code",
   "execution_count": 17,
   "metadata": {},
   "outputs": [
    {
     "data": {
      "text/html": [
       "<div>\n",
       "<style scoped>\n",
       "    .dataframe tbody tr th:only-of-type {\n",
       "        vertical-align: middle;\n",
       "    }\n",
       "\n",
       "    .dataframe tbody tr th {\n",
       "        vertical-align: top;\n",
       "    }\n",
       "\n",
       "    .dataframe thead th {\n",
       "        text-align: right;\n",
       "    }\n",
       "</style>\n",
       "<table border=\"1\" class=\"dataframe\">\n",
       "  <thead>\n",
       "    <tr style=\"text-align: right;\">\n",
       "      <th></th>\n",
       "      <th>LNR</th>\n",
       "      <th>AGER_TYP</th>\n",
       "      <th>AKT_DAT_KL</th>\n",
       "      <th>ALTER_HH</th>\n",
       "      <th>ALTER_KIND1</th>\n",
       "      <th>ALTER_KIND2</th>\n",
       "      <th>ALTER_KIND3</th>\n",
       "      <th>ALTER_KIND4</th>\n",
       "      <th>ALTERSKATEGORIE_FEIN</th>\n",
       "      <th>ANZ_HAUSHALTE_AKTIV</th>\n",
       "      <th>...</th>\n",
       "      <th>VK_ZG11</th>\n",
       "      <th>W_KEIT_KIND_HH</th>\n",
       "      <th>WOHNDAUER_2008</th>\n",
       "      <th>WOHNLAGE</th>\n",
       "      <th>ZABEOTYP</th>\n",
       "      <th>PRODUCT_GROUP</th>\n",
       "      <th>CUSTOMER_GROUP</th>\n",
       "      <th>ONLINE_PURCHASE</th>\n",
       "      <th>ANREDE_KZ</th>\n",
       "      <th>ALTERSKATEGORIE_GROB</th>\n",
       "    </tr>\n",
       "  </thead>\n",
       "  <tbody>\n",
       "    <tr>\n",
       "      <th>0</th>\n",
       "      <td>9626</td>\n",
       "      <td>2</td>\n",
       "      <td>1.0</td>\n",
       "      <td>10.0</td>\n",
       "      <td>NaN</td>\n",
       "      <td>NaN</td>\n",
       "      <td>NaN</td>\n",
       "      <td>NaN</td>\n",
       "      <td>10.0</td>\n",
       "      <td>1.0</td>\n",
       "      <td>...</td>\n",
       "      <td>2.0</td>\n",
       "      <td>6.0</td>\n",
       "      <td>9.0</td>\n",
       "      <td>7.0</td>\n",
       "      <td>3</td>\n",
       "      <td>COSMETIC_AND_FOOD</td>\n",
       "      <td>MULTI_BUYER</td>\n",
       "      <td>0</td>\n",
       "      <td>1</td>\n",
       "      <td>4</td>\n",
       "    </tr>\n",
       "    <tr>\n",
       "      <th>1</th>\n",
       "      <td>9628</td>\n",
       "      <td>-1</td>\n",
       "      <td>9.0</td>\n",
       "      <td>11.0</td>\n",
       "      <td>NaN</td>\n",
       "      <td>NaN</td>\n",
       "      <td>NaN</td>\n",
       "      <td>NaN</td>\n",
       "      <td>NaN</td>\n",
       "      <td>NaN</td>\n",
       "      <td>...</td>\n",
       "      <td>3.0</td>\n",
       "      <td>0.0</td>\n",
       "      <td>9.0</td>\n",
       "      <td>NaN</td>\n",
       "      <td>3</td>\n",
       "      <td>FOOD</td>\n",
       "      <td>SINGLE_BUYER</td>\n",
       "      <td>0</td>\n",
       "      <td>1</td>\n",
       "      <td>4</td>\n",
       "    </tr>\n",
       "    <tr>\n",
       "      <th>2</th>\n",
       "      <td>143872</td>\n",
       "      <td>-1</td>\n",
       "      <td>1.0</td>\n",
       "      <td>6.0</td>\n",
       "      <td>NaN</td>\n",
       "      <td>NaN</td>\n",
       "      <td>NaN</td>\n",
       "      <td>NaN</td>\n",
       "      <td>0.0</td>\n",
       "      <td>1.0</td>\n",
       "      <td>...</td>\n",
       "      <td>11.0</td>\n",
       "      <td>6.0</td>\n",
       "      <td>9.0</td>\n",
       "      <td>2.0</td>\n",
       "      <td>3</td>\n",
       "      <td>COSMETIC_AND_FOOD</td>\n",
       "      <td>MULTI_BUYER</td>\n",
       "      <td>0</td>\n",
       "      <td>2</td>\n",
       "      <td>4</td>\n",
       "    </tr>\n",
       "    <tr>\n",
       "      <th>3</th>\n",
       "      <td>143873</td>\n",
       "      <td>1</td>\n",
       "      <td>1.0</td>\n",
       "      <td>8.0</td>\n",
       "      <td>NaN</td>\n",
       "      <td>NaN</td>\n",
       "      <td>NaN</td>\n",
       "      <td>NaN</td>\n",
       "      <td>8.0</td>\n",
       "      <td>0.0</td>\n",
       "      <td>...</td>\n",
       "      <td>2.0</td>\n",
       "      <td>NaN</td>\n",
       "      <td>9.0</td>\n",
       "      <td>7.0</td>\n",
       "      <td>1</td>\n",
       "      <td>COSMETIC</td>\n",
       "      <td>MULTI_BUYER</td>\n",
       "      <td>0</td>\n",
       "      <td>1</td>\n",
       "      <td>4</td>\n",
       "    </tr>\n",
       "    <tr>\n",
       "      <th>4</th>\n",
       "      <td>143874</td>\n",
       "      <td>-1</td>\n",
       "      <td>1.0</td>\n",
       "      <td>20.0</td>\n",
       "      <td>NaN</td>\n",
       "      <td>NaN</td>\n",
       "      <td>NaN</td>\n",
       "      <td>NaN</td>\n",
       "      <td>14.0</td>\n",
       "      <td>7.0</td>\n",
       "      <td>...</td>\n",
       "      <td>4.0</td>\n",
       "      <td>2.0</td>\n",
       "      <td>9.0</td>\n",
       "      <td>3.0</td>\n",
       "      <td>1</td>\n",
       "      <td>FOOD</td>\n",
       "      <td>MULTI_BUYER</td>\n",
       "      <td>0</td>\n",
       "      <td>1</td>\n",
       "      <td>3</td>\n",
       "    </tr>\n",
       "  </tbody>\n",
       "</table>\n",
       "<p>5 rows × 369 columns</p>\n",
       "</div>"
      ],
      "text/plain": [
       "      LNR  AGER_TYP  AKT_DAT_KL  ALTER_HH  ALTER_KIND1  ALTER_KIND2  \\\n",
       "0    9626         2         1.0      10.0          NaN          NaN   \n",
       "1    9628        -1         9.0      11.0          NaN          NaN   \n",
       "2  143872        -1         1.0       6.0          NaN          NaN   \n",
       "3  143873         1         1.0       8.0          NaN          NaN   \n",
       "4  143874        -1         1.0      20.0          NaN          NaN   \n",
       "\n",
       "   ALTER_KIND3  ALTER_KIND4  ALTERSKATEGORIE_FEIN  ANZ_HAUSHALTE_AKTIV  ...  \\\n",
       "0          NaN          NaN                  10.0                  1.0  ...   \n",
       "1          NaN          NaN                   NaN                  NaN  ...   \n",
       "2          NaN          NaN                   0.0                  1.0  ...   \n",
       "3          NaN          NaN                   8.0                  0.0  ...   \n",
       "4          NaN          NaN                  14.0                  7.0  ...   \n",
       "\n",
       "   VK_ZG11  W_KEIT_KIND_HH  WOHNDAUER_2008  WOHNLAGE  ZABEOTYP  \\\n",
       "0      2.0             6.0             9.0       7.0         3   \n",
       "1      3.0             0.0             9.0       NaN         3   \n",
       "2     11.0             6.0             9.0       2.0         3   \n",
       "3      2.0             NaN             9.0       7.0         1   \n",
       "4      4.0             2.0             9.0       3.0         1   \n",
       "\n",
       "       PRODUCT_GROUP  CUSTOMER_GROUP ONLINE_PURCHASE ANREDE_KZ  \\\n",
       "0  COSMETIC_AND_FOOD     MULTI_BUYER               0         1   \n",
       "1               FOOD    SINGLE_BUYER               0         1   \n",
       "2  COSMETIC_AND_FOOD     MULTI_BUYER               0         2   \n",
       "3           COSMETIC     MULTI_BUYER               0         1   \n",
       "4               FOOD     MULTI_BUYER               0         1   \n",
       "\n",
       "  ALTERSKATEGORIE_GROB  \n",
       "0                    4  \n",
       "1                    4  \n",
       "2                    4  \n",
       "3                    4  \n",
       "4                    3  \n",
       "\n",
       "[5 rows x 369 columns]"
      ]
     },
     "execution_count": 17,
     "metadata": {},
     "output_type": "execute_result"
    }
   ],
   "source": [
    "customers.head()"
   ]
  },
  {
   "cell_type": "code",
   "execution_count": 18,
   "metadata": {},
   "outputs": [
    {
     "data": {
      "text/plain": [
       "0"
      ]
     },
     "execution_count": 18,
     "metadata": {},
     "output_type": "execute_result"
    }
   ],
   "source": [
    "sum(customers.duplicated(subset=['LNR']))"
   ]
  },
  {
   "cell_type": "markdown",
   "metadata": {},
   "source": [
    "## Data Preparation\n",
    "1. Quality Issues\n",
    "    1. Column `EINGEFUEGT_AM` is a datetime. Action drop.\n",
    "    2. Some columns are categorical ordinal but have numeric values to represent unknown instead os np.nan. The columns and unknown values are: \n",
    "        - `AGER_TYP`(0) \n",
    "        - `ALTERSKATEGORIE_GROB` (-1, 0)\n",
    "        - `ALTER_HH` (0)\n",
    "        - `ANREDE_KZ` (-1,0)\n",
    "        - `BALLRAUM` (-1)\n",
    "        - `CAMEO_DEUG_2015` (-1)\n",
    "        - `CAMEO_INTL_2015`(-1)\n",
    "        - `CJT_GESAMTTYP` (0) \n",
    "        - `KK_KUNDENTYP`(-1)\n",
    "        - `EWDICHTE` (-1)\n",
    "        - `FINANZTYP`(-1)\n",
    "        - `FINANZ_*`(-1)\n",
    "        - `GEBAEUDETYP` (-1, 0)\n",
    "        - `GEOSCORE_KLS7`(-1, 0)\n",
    "        - `HAUSHALTSSTRUKTUR`(-1,0)\n",
    "        - `HEALTH_TYP`(-1)\n",
    "        - `HH_EINKOMMEN_SCORE`(-1, 0)\n",
    "        - `INNENSTADT` (-1)\n",
    "        - `KBA05_BAUMAX` (-1, 0)\n",
    "        - `KBA05_ANTG1`, `KBA05_ANTG2`, `KBA05_ANTG3`, `KBA05_ANTG4` (-1)\n",
    "        - Rest of `KBA05_*` (-1, 9)\n",
    "        - All `KBA13_*` (-1)\n",
    "        - `KKK` (-1, 0)\n",
    "        - `NATIONALITAET_KZ` (-1, 0)\n",
    "        - `ORTSGR_KLS9` (-1)\n",
    "        - `OST_WEST_KZ`(-1)\n",
    "        - All `PLZ8_*`(-1)\n",
    "        - `PRAEGENDE_JUGENDJAHRE`(-1, 0)\n",
    "        - `REGIOTYP` (-1, 0)\n",
    "        - `RETOURTYP_BK_S` (0)\n",
    "        - All `SEMIO_*` (-1, 9)\n",
    "        - `SHOPPER_TYP` (-1)\n",
    "        - `SOHO_KZ` (-1)\n",
    "        - `TITEL_KZ` (-1, 0)\n",
    "        - `VERS_TYP` (-1)\n",
    "        - `WOHNDAUER_2008` (-1, 0)\n",
    "        - `WOHNLAGE` (-1)\n",
    "        - `WACHSTUMSGEBIET_NB` (-1, 0)\n",
    "        - `W_KEIT_KIND_HH` (-1, 0)\n",
    "        - `ZABEOTYP` (-1, 9)\n",
    "    3. `CAMEO_DEUG_2015` and `CAMEO_INTL_2015` have unknow `X` and `XX` values. After remove it could be considered an ordinal variable.\n",
    "    4. Columns with high ratio of null values(>=0.5). Action drop.\n",
    "    4. Columns with moderate ratio of null values (<0.5). Action impute mean for numerical and mode for categorical.\n",
    "\n",
    "\n",
    "2. Other preparation issues\n",
    "    1. Merge\n",
    "    2. Enconding Categorical Variables\n",
    "    3. Reduce High dimensionality\n",
    "\n"
   ]
  },
  {
   "cell_type": "markdown",
   "metadata": {},
   "source": [
    "##### Cleaning"
   ]
  },
  {
   "cell_type": "code",
   "execution_count": 39,
   "metadata": {},
   "outputs": [],
   "source": [
    "azdias_clean = azdias.copy()\n",
    "customers_clean = customers.copy()"
   ]
  },
  {
   "cell_type": "code",
   "execution_count": 40,
   "metadata": {},
   "outputs": [],
   "source": [
    "individual_column_nulls = [('AGER_TYP', 0), ('ALTERSKATEGORIE_GROB', -1), ('ALTERSKATEGORIE_GROB', 0)]\n",
    "individual_column_nulls += [('ALTER_HH', 0), ('ANREDE_KZ', -1), ('ANREDE_KZ', 0), ('BALLRAUM', -1)]\n",
    "individual_column_nulls += [('CAMEO_DEUG_2015', -1), ('CAMEO_INTL_2015', -1), ('CJT_GESAMTTYP', 0)]\n",
    "individual_column_nulls += [('KK_KUNDENTYP', -1), ('EWDICHTE', -1), ('FINANZTYP', -1)]\n",
    "individual_column_nulls += [('GEBAEUDETYP', -1), ('GEBAEUDETYP', 0)]\n",
    "individual_column_nulls += [('HEALTH_TYP', -1)]\n",
    "individual_column_nulls += [('HH_EINKOMMEN_SCORE', -1), ('HH_EINKOMMEN_SCORE', 0)]\n",
    "individual_column_nulls += [('INNENSTADT', -1), ('KBA05_BAUMAX', -1), ('KBA05_BAUMAX', 0)]\n",
    "individual_column_nulls += [('KBA05_ANTG1', -1), ('KBA05_ANTG2', -1), ('KBA05_ANTG3', -1), ('KBA05_ANTG4', -1)]\n",
    "individual_column_nulls += [('NATIONALITAET_KZ', -1), ('NATIONALITAET_KZ', 0), ('ORTSGR_KLS9', -1)]\n",
    "individual_column_nulls += [('OST_WEST_KZ', -1), ('PRAEGENDE_JUGENDJAHRE', -1), ('PRAEGENDE_JUGENDJAHRE', 0)]\n",
    "individual_column_nulls += [('REGIOTYP', -1), ('REGIOTYP', 0), ('RETOURTYP_BK_S', 0), ('SHOPPER_TYP', -1)]\n",
    "individual_column_nulls += [('SOHO_KZ', -1), ('TITEL_KZ', -1), ('TITEL_KZ', 0), ('VERS_TYP', -1)] \n",
    "individual_column_nulls += [('WOHNDAUER_2008', -1), ('WOHNDAUER_2008', 0), ('WOHNLAGE', -1)]\n",
    "individual_column_nulls += [('W_KEIT_KIND_HH', -1), ('W_KEIT_KIND_HH', 0), ('ZABEOTYP', -1), ('ZABEOTYP', 9)]\n",
    "individual_column_nulls += [('CAMEO_DEUG_2015', 'X'), ('CAMEO_INTL_2015', 'XX')]"
   ]
  },
  {
   "cell_type": "code",
   "execution_count": 41,
   "metadata": {},
   "outputs": [],
   "source": [
    "# Clean methods\n",
    "\n",
    "def clean_individual_column_nulls(df, column_items):\n",
    "    for column, value in column_items:\n",
    "        df.loc[df[column]==value, column] = np.nan\n",
    "    return df\n",
    "\n",
    "def clean_group_column_nulls(df, group, values, exceptions=[]):\n",
    "    for value in values:\n",
    "        mask = (df.columns.str.contains(group))\n",
    "        columns = list(df.loc[1, mask].index.values)\n",
    "        for column in columns:\n",
    "            if column not in exceptions:\n",
    "                df.loc[df[column]==value, column] = np.nan\n",
    "    return df\n",
    "\n",
    "def clean_dataset(df):\n",
    "    df_clean = clean_individual_column_nulls(df, individual_column_nulls)\n",
    "    group = 'KBA05'\n",
    "    exceptions = ['KBA05_ANTG1', 'KBA05_ANTG2', 'KBA05_ANTG3', 'KBA05_ANTG4']\n",
    "    values = [-1, 9]\n",
    "    df_clean = clean_group_column_nulls(df_clean, group, values, exceptions)\n",
    "\n",
    "    group = 'KBA13'\n",
    "    exceptions = []\n",
    "    values = [-1]\n",
    "    df_clean = clean_group_column_nulls(df_clean, group, values, exceptions)\n",
    "\n",
    "    group = 'PLZ8'\n",
    "    exceptions = []\n",
    "    values = [-1]\n",
    "    df_clean = clean_group_column_nulls(df_clean, group, values, exceptions)\n",
    "\n",
    "    group = 'SEMIO'\n",
    "    exceptions = []\n",
    "    values = [-1, 9]\n",
    "    df_clean = clean_group_column_nulls(df_clean, group, values, exceptions)\n",
    "    \n",
    "    \n",
    "    missing_value_columns = ['ALTER_KIND4', 'ALTER_KIND3', 'ALTER_KIND2', 'ALTER_KIND1', 'KK_KUNDENTYP']\n",
    "    df_clean = df_clean.drop(columns=missing_value_columns) \n",
    "    \n",
    "    df_clean = df_clean.drop(columns=['EINGEFUEGT_AM'])\n",
    "    categorical_vars_mail, numerical_vars_mail = split_categorical_numerical(df_clean)\n",
    "    for var in categorical_vars_mail:\n",
    "        df_clean[var] = df_clean[var].astype(str)\n",
    "        \n",
    "    df_clean['CAMEO_DEUG_2015'] = pd.to_numeric(df_clean['CAMEO_DEUG_2015'], errors='coerce')\n",
    "    df_clean['CAMEO_INTL_2015'] = pd.to_numeric(df_clean['CAMEO_INTL_2015'], errors='coerce')\n",
    "    df_clean['CAMEO_DEUG_2015'] = pd.to_numeric(df_clean['CAMEO_DEUG_2015'], errors='coerce')\n",
    "    df_clean['CAMEO_INTL_2015'] = pd.to_numeric(df_clean['CAMEO_INTL_2015'], errors='coerce')\n",
    "    \n",
    "    return df_clean\n"
   ]
  },
  {
   "cell_type": "code",
   "execution_count": 42,
   "metadata": {},
   "outputs": [],
   "source": [
    "azdias_clean = clean_dataset(azdias_clean)\n",
    "customers_clean = clean_dataset(customers_clean)"
   ]
  },
  {
   "cell_type": "markdown",
   "metadata": {},
   "source": [
    "##### Impute values to numerical and categorical\n"
   ]
  },
  {
   "cell_type": "code",
   "execution_count": 43,
   "metadata": {},
   "outputs": [],
   "source": [
    "categorical_vars_clean, numerical_vars_clean = split_categorical_numerical(azdias_clean)"
   ]
  },
  {
   "cell_type": "code",
   "execution_count": 44,
   "metadata": {},
   "outputs": [],
   "source": [
    "for var in categorical_vars_clean:\n",
    "    azdias_clean[var] = azdias_clean[var].astype(str)"
   ]
  },
  {
   "cell_type": "code",
   "execution_count": 45,
   "metadata": {},
   "outputs": [],
   "source": [
    "feature_list = categorical_vars_clean + numerical_vars_clean\n",
    "azdias_clean = azdias_clean[feature_list]"
   ]
  },
  {
   "cell_type": "code",
   "execution_count": 46,
   "metadata": {},
   "outputs": [],
   "source": [
    "### Same process witch customers\n",
    "categorical_vars_cus, numerical_vars_cus = split_categorical_numerical(customers_clean)\n",
    "\n",
    "for var in categorical_vars_cus:\n",
    "    customers_clean[var] = customers_clean[var].astype(str)"
   ]
  },
  {
   "cell_type": "code",
   "execution_count": 47,
   "metadata": {},
   "outputs": [],
   "source": [
    "column_preprocessor = make_column_transformer(\n",
    "    (Pipeline([\n",
    "        ('num', SimpleImputer()),\n",
    "        ('sc', StandardScaler()),\n",
    "    ]), numerical_vars_clean),\n",
    "    (Pipeline([\n",
    "        ('cat', SimpleImputer(strategy='constant', fill_value='unknown')),\n",
    "        ('enc', FeatureHasher(input_type='string', n_features=8)),\n",
    "    ]), categorical_vars_clean),\n",
    "    remainder='drop'\n",
    ")\n",
    "\n",
    "\n"
   ]
  },
  {
   "cell_type": "code",
   "execution_count": 48,
   "metadata": {
    "scrolled": false
   },
   "outputs": [
    {
     "data": {
      "text/plain": [
       "(891221, 365)"
      ]
     },
     "execution_count": 48,
     "metadata": {},
     "output_type": "execute_result"
    }
   ],
   "source": [
    "X = column_preprocessor.fit_transform(azdias_clean)\n",
    "X.shape"
   ]
  },
  {
   "cell_type": "markdown",
   "metadata": {},
   "source": [
    "## Part 1: Customer Segmentation Report\n",
    "\n",
    "The main bulk of your analysis will come in this part of the project. Here, you should use unsupervised learning techniques to describe the relationship between the demographics of the company's existing customers and the general population of Germany. By the end of this part, you should be able to describe parts of the general population that are more likely to be part of the mail-order company's main customer base, and which parts of the general population are less so."
   ]
  },
  {
   "cell_type": "code",
   "execution_count": 49,
   "metadata": {
    "scrolled": true
   },
   "outputs": [],
   "source": [
    "pca = PCA().fit(X)\n",
    "\n"
   ]
  },
  {
   "cell_type": "code",
   "execution_count": 50,
   "metadata": {
    "scrolled": false
   },
   "outputs": [
    {
     "data": {
      "image/png": "[encoded data removed]",
      "text/plain": [
       "<Figure size 1008x504 with 1 Axes>"
      ]
     },
     "metadata": {
      "needs_background": "light"
     },
     "output_type": "display_data"
    }
   ],
   "source": [
    "#Plotting the Cumulative Summation of the Explained Variance\n",
    "plt.figure(figsize=(14, 7))\n",
    "plt.plot(np.cumsum(pca.explained_variance_ratio_))\n",
    "plt.hlines(y=0.95, xmin=0, xmax=362, colors='r', linestyles='solid', label='95% variance')\n",
    "plt.xlabel('Number of Components')\n",
    "plt.ylabel('Variance (%)') #for each component\n",
    "plt.title('Explained Variance')\n",
    "plt.grid()\n",
    "plt.legend(loc='lower right')\n",
    "plt.show();"
   ]
  },
  {
   "cell_type": "markdown",
   "metadata": {},
   "source": [
    "We can have 95% of the variance with just 225 components."
   ]
  },
  {
   "cell_type": "code",
   "execution_count": 51,
   "metadata": {},
   "outputs": [],
   "source": [
    "components = PCA(n_components=225).fit(X)\n"
   ]
  },
  {
   "cell_type": "code",
   "execution_count": 52,
   "metadata": {},
   "outputs": [],
   "source": [
    "X_comp = components.transform(X)"
   ]
  },
  {
   "cell_type": "code",
   "execution_count": 53,
   "metadata": {},
   "outputs": [
    {
     "data": {
      "text/plain": [
       "(891221, 225)"
      ]
     },
     "execution_count": 53,
     "metadata": {},
     "output_type": "execute_result"
    }
   ],
   "source": [
    "X_comp.shape"
   ]
  },
  {
   "cell_type": "code",
   "execution_count": 54,
   "metadata": {},
   "outputs": [],
   "source": [
    "# k means determine k\n",
    "distortions = []\n",
    "K = range(1, 22)\n",
    "\n",
    "# We take a 10% sample of the population to determine best k\n",
    "sample = X_comp[np.random.randint(X_comp.shape[0], size=50000), :]\n"
   ]
  },
  {
   "cell_type": "code",
   "execution_count": 55,
   "metadata": {},
   "outputs": [],
   "source": [
    "for k in K:\n",
    "    kmeanModel = KMeans(n_clusters=k).fit(sample)\n",
    "    distortions.append(sum(np.min(cdist(sample, kmeanModel.cluster_centers_, 'euclidean'), axis=1)) / sample.shape[0])\n"
   ]
  },
  {
   "cell_type": "code",
   "execution_count": 56,
   "metadata": {
    "scrolled": false
   },
   "outputs": [
    {
     "data": {
      "image/png": "[encoded data removed]",
      "text/plain": [
       "<Figure size 1080x504 with 1 Axes>"
      ]
     },
     "metadata": {
      "needs_background": "light"
     },
     "output_type": "display_data"
    }
   ],
   "source": [
    "# Plot the elbow\n",
    "plt.figure(figsize=(15, 7))\n",
    "plt.plot(K, distortions, 'x-')\n",
    "plt.xticks(range(1,22))\n",
    "plt.xlabel('k')\n",
    "plt.ylabel('Distortion')\n",
    "plt.title('Elbow Method showing the optimal k')\n",
    "plt.grid()\n",
    "plt.show();"
   ]
  },
  {
   "cell_type": "markdown",
   "metadata": {},
   "source": [
    "The optimal **k** is **8**"
   ]
  },
  {
   "cell_type": "code",
   "execution_count": 57,
   "metadata": {},
   "outputs": [],
   "source": [
    "categorical_vars_clean, numerical_vars_clean = split_categorical_numerical(azdias_clean)"
   ]
  },
  {
   "cell_type": "code",
   "execution_count": 58,
   "metadata": {},
   "outputs": [],
   "source": [
    "all_features = numerical_vars_clean + categorical_vars_clean"
   ]
  },
  {
   "cell_type": "code",
   "execution_count": 59,
   "metadata": {},
   "outputs": [],
   "source": [
    "column_preprocessor = make_column_transformer(\n",
    "    (Pipeline([\n",
    "        ('num', SimpleImputer()),\n",
    "        ('sc', StandardScaler()),\n",
    "    ]), numerical_vars_clean),\n",
    "    (Pipeline([\n",
    "        ('cat', SimpleImputer(strategy='constant', fill_value='unknown')),\n",
    "        ('enc', FeatureHasher(input_type='string', n_features=8)),\n",
    "    ]), categorical_vars_clean),\n",
    "    remainder='drop'\n",
    ")\n",
    "\n",
    "cluster_pipeline = Pipeline([\n",
    "    ('pre', column_preprocessor),\n",
    "    ('pca', PCA(n_components=225)),\n",
    "    ('clu', KMeans(n_clusters=8, random_state=42)),\n",
    "])"
   ]
  },
  {
   "cell_type": "code",
   "execution_count": 60,
   "metadata": {},
   "outputs": [],
   "source": [
    "azdias_clusters = cluster_pipeline.fit_predict(azdias_clean)"
   ]
  },
  {
   "cell_type": "code",
   "execution_count": 61,
   "metadata": {},
   "outputs": [
    {
     "name": "stderr",
     "output_type": "stream",
     "text": [
      "/Users/eduardoburgoa/anaconda3/lib/python3.7/site-packages/sklearn/compose/_column_transformer.py:430: FutureWarning: Given feature/column names or counts do not match the ones for the data given during fit. This will fail from v0.24.\n",
      "  FutureWarning)\n"
     ]
    }
   ],
   "source": [
    "customer_clusters = cluster_pipeline.predict(customers_clean[all_features])"
   ]
  },
  {
   "cell_type": "code",
   "execution_count": 62,
   "metadata": {},
   "outputs": [],
   "source": [
    "azdias_with_cluster = azdias_clean.copy()"
   ]
  },
  {
   "cell_type": "code",
   "execution_count": 63,
   "metadata": {},
   "outputs": [],
   "source": [
    "azdias_with_cluster['cluster'] = azdias_clusters"
   ]
  },
  {
   "cell_type": "code",
   "execution_count": 64,
   "metadata": {},
   "outputs": [],
   "source": [
    "azdias_cluster_group = azdias_with_cluster.groupby('cluster')\n",
    "total_azdias_by_cluster = azdias_cluster_group['LNR'].count()"
   ]
  },
  {
   "cell_type": "code",
   "execution_count": 65,
   "metadata": {},
   "outputs": [],
   "source": [
    "customer_with_cluster = customers_clean.copy()"
   ]
  },
  {
   "cell_type": "code",
   "execution_count": 66,
   "metadata": {},
   "outputs": [],
   "source": [
    "customer_with_cluster['cluster'] = customer_clusters"
   ]
  },
  {
   "cell_type": "code",
   "execution_count": 67,
   "metadata": {},
   "outputs": [],
   "source": [
    "customers_cluster_group = customer_with_cluster.groupby('cluster')\n",
    "total_customers_by_cluster = customers_cluster_group['LNR'].count()"
   ]
  },
  {
   "cell_type": "code",
   "execution_count": 69,
   "metadata": {
    "scrolled": false
   },
   "outputs": [
    {
     "data": {
      "image/png": "[encoded data removed]",
      "text/plain": [
       "<Figure size 1008x504 with 1 Axes>"
      ]
     },
     "metadata": {
      "needs_background": "light"
     },
     "output_type": "display_data"
    }
   ],
   "source": [
    "proportions_azdias = total_azdias_by_cluster/sum(total_azdias_by_cluster)*100\n",
    "proportions_customers = total_customers_by_cluster/sum(total_customers_by_cluster)*100\n",
    "\n",
    "x1 = np.linspace(-0.125, 6.875, 8)\n",
    "x2 = np.linspace(0.125, 7.125, 8)\n",
    "\n",
    "plt.figure(figsize=(14,7))\n",
    "\n",
    "ax = plt.subplot()\n",
    "ax1 = ax.bar(x=x1, height=proportions_azdias, width=0.25, align='center', label='general population')\n",
    "ax2 = ax.bar(x=x2, height=proportions_customers, width=0.25, align='center', label='customers')\n",
    "\n",
    "plt.ylabel('%')\n",
    "plt.title('Cluster proportions for customers and general population')\n",
    "plt.xticks(ticks=list(range(0, 8)), labels=list(range(1, 9)), rotation=0)\n",
    "plt.legend(loc='upper left')\n",
    "plt.show();"
   ]
  },
  {
   "cell_type": "code",
   "execution_count": null,
   "metadata": {},
   "outputs": [],
   "source": [
    "def byplot(score,coeff,labels=None):\n",
    "    xs = score[:,0]\n",
    "    ys = score[:,1]\n",
    "    n = coeff.shape[0]\n",
    "    scalex = 1.0/(xs.max() - xs.min())\n",
    "    scaley = 1.0/(ys.max() - ys.min())\n",
    "    plt.scatter(xs * scalex,ys * scaley, c = y)\n",
    "    for i in range(n):\n",
    "        plt.arrow(0, 0, coeff[i,0], coeff[i,1],color = 'r',alpha = 0.5)\n",
    "        if labels is None:\n",
    "            plt.text(coeff[i,0]* 1.15, coeff[i,1] * 1.15, \"Var\"+str(i+1), color = 'g', ha = 'center', va = 'center')\n",
    "        else:\n",
    "            plt.text(coeff[i,0]* 1.15, coeff[i,1] * 1.15, labels[i], color = 'g', ha = 'center', va = 'center')\n",
    "    plt.xlim(-1,1)\n",
    "    plt.ylim(-1,1)\n",
    "    plt.xlabel(\"PC{}\".format(1))\n",
    "    plt.ylabel(\"PC{}\".format(2))\n",
    "    plt.grid()\n"
   ]
  },
  {
   "cell_type": "code",
   "execution_count": null,
   "metadata": {},
   "outputs": [],
   "source": [
    "scaler = StandardScaler()\n",
    "scaler.fit(X)\n",
    "X=scaler.transform(X)    \n",
    "pca = PCA()\n",
    "x_new = pca.fit_transform(X)\n",
    "\n",
    "myplot(x_new[:,0:2],np.transpose(pca.components_[0:2, :]))\n",
    "plt.show()"
   ]
  },
  {
   "cell_type": "markdown",
   "metadata": {},
   "source": [
    "## Part 2: Supervised Learning Model\n",
    "\n",
    "Now that you've found which parts of the population are more likely to be customers of the mail-order company, it's time to build a prediction model. Each of the rows in the \"MAILOUT\" data files represents an individual that was targeted for a mailout campaign. Ideally, we should be able to use the demographic information from each individual to decide whether or not it will be worth it to include that person in the campaign.\n",
    "\n",
    "The \"MAILOUT\" data has been split into two approximately equal parts, each with almost 43 000 data rows. In this part, you can verify your model with the \"TRAIN\" partition, which includes a column, \"RESPONSE\", that states whether or not a person became a customer of the company following the campaign. In the next part, you'll need to create predictions on the \"TEST\" partition, where the \"RESPONSE\" column has been withheld."
   ]
  },
  {
   "cell_type": "code",
   "execution_count": 70,
   "metadata": {},
   "outputs": [
    {
     "name": "stderr",
     "output_type": "stream",
     "text": [
      "/Users/eduardoburgoa/anaconda3/lib/python3.7/site-packages/IPython/core/interactiveshell.py:3057: DtypeWarning: Columns (18,19) have mixed types. Specify dtype option on import or set low_memory=False.\n",
      "  interactivity=interactivity, compiler=compiler, result=result)\n"
     ]
    }
   ],
   "source": [
    "mailout_train = pd.read_csv('data/Term2/capstone/arvato_data/Udacity_MAILOUT_052018_TRAIN.csv', sep=';')"
   ]
  },
  {
   "cell_type": "code",
   "execution_count": 71,
   "metadata": {},
   "outputs": [],
   "source": [
    "null_mailout_train = show_null_ratio(mailout_train)\n"
   ]
  },
  {
   "cell_type": "code",
   "execution_count": 72,
   "metadata": {},
   "outputs": [
    {
     "data": {
      "image/png": "[encoded data removed]",
      "text/plain": [
       "<Figure size 1008x576 with 1 Axes>"
      ]
     },
     "metadata": {
      "needs_background": "light"
     },
     "output_type": "display_data"
    }
   ],
   "source": [
    "data = null_mailout_train.query('null_ratio > 0.5').sort_values('null_ratio', ascending=False)\n",
    "x = data['column']\n",
    "y = data['null_ratio']\n",
    "plt.figure(figsize=(14,8))\n",
    "plt.bar(x, y)\n",
    "plt.xticks(rotation=90);"
   ]
  },
  {
   "cell_type": "code",
   "execution_count": 75,
   "metadata": {},
   "outputs": [],
   "source": [
    "mailout_train_clean = clean_dataset(mailout_train)"
   ]
  },
  {
   "cell_type": "code",
   "execution_count": 76,
   "metadata": {},
   "outputs": [],
   "source": [
    "X = mailout_train_clean.drop(columns=['RESPONSE', 'LNR'])\n",
    "y = mailout_train_clean['RESPONSE']"
   ]
  },
  {
   "cell_type": "code",
   "execution_count": 77,
   "metadata": {},
   "outputs": [
    {
     "data": {
      "text/plain": [
       "(42962, 359)"
      ]
     },
     "execution_count": 77,
     "metadata": {},
     "output_type": "execute_result"
    }
   ],
   "source": [
    "X.shape"
   ]
  },
  {
   "cell_type": "code",
   "execution_count": 78,
   "metadata": {},
   "outputs": [
    {
     "data": {
      "text/plain": [
       "0.012383036171500396"
      ]
     },
     "execution_count": 78,
     "metadata": {},
     "output_type": "execute_result"
    }
   ],
   "source": [
    "y.mean()"
   ]
  },
  {
   "cell_type": "code",
   "execution_count": 81,
   "metadata": {},
   "outputs": [],
   "source": [
    "categorical_vars_mail, numerical_vars_mail = split_categorical_numerical(X)"
   ]
  },
  {
   "cell_type": "code",
   "execution_count": 82,
   "metadata": {},
   "outputs": [],
   "source": [
    "X_train, X_test, y_train, y_test = train_test_split(X, y, test_size=0.2, random_state=42)"
   ]
  },
  {
   "cell_type": "code",
   "execution_count": 83,
   "metadata": {},
   "outputs": [],
   "source": [
    "preprocessor = make_column_transformer(\n",
    "    (Pipeline([\n",
    "        ('num', SimpleImputer()),\n",
    "        ('sc', StandardScaler()),\n",
    "    ]), numerical_vars_mail),\n",
    "    (Pipeline([\n",
    "        ('num', SimpleImputer(strategy='constant', fill_value='unknown')),\n",
    "        ('enc', FeatureHasher(input_type='string')),\n",
    "    ]), categorical_vars_mail),\n",
    "    remainder='drop'\n",
    ")\n",
    "\n",
    "\n",
    "\n",
    "pipeline = Pipeline([\n",
    "    ('pre', preprocessor),\n",
    "    ('sel', SelectKBest()),\n",
    "    ('sam', SMOTE(random_state=42)),\n",
    "    ('clf', XGBClassifier(random_state=42, \n",
    "                          max_depth=1, \n",
    "                          max_delta_step=0, \n",
    "                          colsample_bytree=1, \n",
    "                          subsample=1, \n",
    "                          min_child_weight=1))\n",
    "])\n"
   ]
  },
  {
   "cell_type": "code",
   "execution_count": 293,
   "metadata": {},
   "outputs": [
    {
     "name": "stdout",
     "output_type": "stream",
     "text": [
      "Best score: 0.7760617194987722\n",
      "Best params: {'clf__n_estimators': 50, 'clf__scale_pos_weight': 46, 'pre__pipeline-2__enc__n_features': 12, 'sam__sampling_strategy': 0.026, 'sel__k': 180}\n",
      "              precision    recall  f1-score   support\n",
      "\n",
      "           0       1.00      0.57      0.73      8472\n",
      "           1       0.03      0.83      0.05       121\n",
      "\n",
      "    accuracy                           0.58      8593\n",
      "   macro avg       0.51      0.70      0.39      8593\n",
      "weighted avg       0.98      0.58      0.72      8593\n",
      "\n",
      "AUC: 0.7043596211926111\n"
     ]
    }
   ],
   "source": [
    "print(\"Best score: %s\" % model.best_score_)\n",
    "print(\"Best params: %s\" % model.best_params_)\n",
    "\n",
    "y_pred = model.predict(X_test)\n",
    "\n",
    "print(classification_report(y_test, y_pred))\n",
    "fpr, tpr, thresholds = roc_curve(y_test, y_pred)\n",
    "print(\"AUC: %s\" % auc(fpr, tpr))\n"
   ]
  },
  {
   "cell_type": "code",
   "execution_count": null,
   "metadata": {},
   "outputs": [
    {
     "name": "stdout",
     "output_type": "stream",
     "text": [
      "Fitting 5 folds for each of 3 candidates, totalling 15 fits\n"
     ]
    },
    {
     "name": "stderr",
     "output_type": "stream",
     "text": [
      "[Parallel(n_jobs=2)]: Using backend LokyBackend with 2 concurrent workers.\n"
     ]
    }
   ],
   "source": [
    "parameters = {\n",
    "    'pre__pipeline-2__enc__n_features': [12],\n",
    "    'sel__k': [180],\n",
    "    'sam__sampling_strategy': [0.026],\n",
    "    'clf__n_estimators': [50],\n",
    "    'clf__scale_pos_weight': [44, 45, 46]\n",
    "}\n",
    "\n",
    "model = GridSearchCV(pipeline, param_grid=parameters, scoring='roc_auc', n_jobs=2, verbose=2)\n",
    "\n",
    "model.fit(X_train, y_train);"
   ]
  },
  {
   "cell_type": "code",
   "execution_count": 94,
   "metadata": {},
   "outputs": [],
   "source": [
    "preprocessor = make_column_transformer(\n",
    "    (Pipeline([\n",
    "        ('num', SimpleImputer()),\n",
    "        ('sc', StandardScaler()),\n",
    "    ]), numerical_vars_mail),\n",
    "    (Pipeline([\n",
    "        ('num', SimpleImputer(strategy='constant', fill_value='unknown')),\n",
    "        ('enc', FeatureHasher(input_type='string')),\n",
    "    ]), categorical_vars_mail),\n",
    "    remainder='drop'\n",
    ")\n",
    "\n",
    "pipeline = Pipeline([\n",
    "    ('pre', preprocessor),\n",
    "    ('sel', SelectKBest()),\n",
    "    ('sam', SMOTE(random_state=42)),\n",
    "    ('clf', VotingClassifier([\n",
    "        ('xgb', XGBClassifier()),\n",
    "        ('rus', RUSBoostClassifier()),\n",
    "        ('brf', BalancedRandomForestClassifier()),\n",
    "    ], voting='soft')),\n",
    "])"
   ]
  },
  {
   "cell_type": "code",
   "execution_count": 95,
   "metadata": {},
   "outputs": [
    {
     "data": {
      "text/plain": [
       "dict_keys(['memory', 'steps', 'verbose', 'pre', 'sel', 'sam', 'clf', 'pre__n_jobs', 'pre__remainder', 'pre__sparse_threshold', 'pre__transformer_weights', 'pre__transformers', 'pre__verbose', 'pre__pipeline-1', 'pre__pipeline-2', 'pre__pipeline-1__memory', 'pre__pipeline-1__steps', 'pre__pipeline-1__verbose', 'pre__pipeline-1__num', 'pre__pipeline-1__sc', 'pre__pipeline-1__num__add_indicator', 'pre__pipeline-1__num__copy', 'pre__pipeline-1__num__fill_value', 'pre__pipeline-1__num__missing_values', 'pre__pipeline-1__num__strategy', 'pre__pipeline-1__num__verbose', 'pre__pipeline-1__sc__copy', 'pre__pipeline-1__sc__with_mean', 'pre__pipeline-1__sc__with_std', 'pre__pipeline-2__memory', 'pre__pipeline-2__steps', 'pre__pipeline-2__verbose', 'pre__pipeline-2__num', 'pre__pipeline-2__enc', 'pre__pipeline-2__num__add_indicator', 'pre__pipeline-2__num__copy', 'pre__pipeline-2__num__fill_value', 'pre__pipeline-2__num__missing_values', 'pre__pipeline-2__num__strategy', 'pre__pipeline-2__num__verbose', 'pre__pipeline-2__enc__alternate_sign', 'pre__pipeline-2__enc__dtype', 'pre__pipeline-2__enc__input_type', 'pre__pipeline-2__enc__n_features', 'sel__k', 'sel__score_func', 'sam__k_neighbors', 'sam__n_jobs', 'sam__random_state', 'sam__sampling_strategy', 'clf__estimators', 'clf__flatten_transform', 'clf__n_jobs', 'clf__voting', 'clf__weights', 'clf__xgb', 'clf__rus', 'clf__brf', 'clf__xgb__base_score', 'clf__xgb__booster', 'clf__xgb__colsample_bylevel', 'clf__xgb__colsample_bynode', 'clf__xgb__colsample_bytree', 'clf__xgb__gamma', 'clf__xgb__learning_rate', 'clf__xgb__max_delta_step', 'clf__xgb__max_depth', 'clf__xgb__min_child_weight', 'clf__xgb__missing', 'clf__xgb__n_estimators', 'clf__xgb__n_jobs', 'clf__xgb__nthread', 'clf__xgb__objective', 'clf__xgb__random_state', 'clf__xgb__reg_alpha', 'clf__xgb__reg_lambda', 'clf__xgb__scale_pos_weight', 'clf__xgb__seed', 'clf__xgb__silent', 'clf__xgb__subsample', 'clf__xgb__verbosity', 'clf__rus__algorithm', 'clf__rus__base_estimator', 'clf__rus__learning_rate', 'clf__rus__n_estimators', 'clf__rus__random_state', 'clf__rus__replacement', 'clf__rus__sampling_strategy', 'clf__brf__bootstrap', 'clf__brf__ccp_alpha', 'clf__brf__class_weight', 'clf__brf__criterion', 'clf__brf__max_depth', 'clf__brf__max_features', 'clf__brf__max_leaf_nodes', 'clf__brf__max_samples', 'clf__brf__min_impurity_decrease', 'clf__brf__min_samples_leaf', 'clf__brf__min_samples_split', 'clf__brf__min_weight_fraction_leaf', 'clf__brf__n_estimators', 'clf__brf__n_jobs', 'clf__brf__oob_score', 'clf__brf__random_state', 'clf__brf__replacement', 'clf__brf__sampling_strategy', 'clf__brf__verbose', 'clf__brf__warm_start'])"
      ]
     },
     "execution_count": 95,
     "metadata": {},
     "output_type": "execute_result"
    }
   ],
   "source": [
    "pipeline.get_params().keys()"
   ]
  },
  {
   "cell_type": "code",
   "execution_count": 96,
   "metadata": {},
   "outputs": [
    {
     "name": "stdout",
     "output_type": "stream",
     "text": [
      "Fitting 5 folds for each of 2 candidates, totalling 10 fits\n"
     ]
    },
    {
     "name": "stderr",
     "output_type": "stream",
     "text": [
      "[Parallel(n_jobs=4)]: Using backend LokyBackend with 4 concurrent workers.\n",
      "[Parallel(n_jobs=4)]: Done  10 out of  10 | elapsed:  1.8min finished\n"
     ]
    }
   ],
   "source": [
    "parameters = {\n",
    "    'pre__pipeline-2__enc__n_features': [12],\n",
    "    'sel__k': [180],\n",
    "    'sam__sampling_strategy': [0.026],\n",
    "    'clf__weights': [[1, 1, 1]],\n",
    "    'clf__xgb__random_state': [42],\n",
    "    'clf__xgb__n_estimators': [50],\n",
    "    'clf__xgb__max_depth': [1],\n",
    "    'clf__xgb__max_delta_step': [0],\n",
    "    'clf__xgb__colsample_bytree': [1],\n",
    "    'clf__xgb__subsample': [1],\n",
    "    'clf__xgb__min_child_weight': [1],\n",
    "    'clf__xgb__scale_pos_weight': [45],\n",
    "    'clf__rus__random_state': [42],\n",
    "    'clf__rus__n_estimators': [50],\n",
    "    'clf__rus__replacement': [False],\n",
    "    'clf__brf__n_estimators': [200],\n",
    "    'clf__brf__random_state': [42],\n",
    "    'clf__brf__max_depth': [4],\n",
    "    'clf__brf__max_samples': [0.05],\n",
    "    'clf__brf__class_weight': [{0:0.9, 1:1}],\n",
    "    'clf__brf__max_features': [0.5],\n",
    "}\n",
    "\n",
    "model = GridSearchCV(pipeline, param_grid=parameters, scoring='roc_auc', n_jobs=4, verbose=2)\n",
    "\n",
    "model.fit(X_train, y_train);"
   ]
  },
  {
   "cell_type": "code",
   "execution_count": 97,
   "metadata": {},
   "outputs": [
    {
     "name": "stdout",
     "output_type": "stream",
     "text": [
      "Best score: 0.7724357897169832\n",
      "Best params: {'clf__brf__class_weight': {0: 0.9, 1: 1}, 'clf__brf__max_depth': 4, 'clf__brf__max_features': 0.5, 'clf__brf__max_samples': 0.05, 'clf__brf__n_estimators': 200, 'clf__brf__random_state': 42, 'clf__rus__n_estimators': 50, 'clf__rus__random_state': 42, 'clf__rus__replacement': False, 'clf__weights': [1, 1, 1], 'clf__xgb__colsample_bytree': 1, 'clf__xgb__max_delta_step': 0, 'clf__xgb__max_depth': 1, 'clf__xgb__min_child_weight': 1, 'clf__xgb__n_estimators': 50, 'clf__xgb__random_state': 42, 'clf__xgb__scale_pos_weight': 45, 'clf__xgb__subsample': 1, 'pre__pipeline-2__enc__n_features': 12, 'sam__sampling_strategy': 0.026, 'sel__k': 180}\n",
      "              precision    recall  f1-score   support\n",
      "\n",
      "           0       1.00      0.57      0.72      8472\n",
      "           1       0.03      0.83      0.05       121\n",
      "\n",
      "    accuracy                           0.57      8593\n",
      "   macro avg       0.51      0.70      0.39      8593\n",
      "weighted avg       0.98      0.57      0.71      8593\n",
      "\n",
      "AUC: 0.6998742576420918\n"
     ]
    }
   ],
   "source": [
    "print(\"Best score: %s\" % model.best_score_)\n",
    "print(\"Best params: %s\" % model.best_params_)\n",
    "\n",
    "y_pred = model.predict(X_test)\n",
    "\n",
    "print(classification_report(y_test, y_pred))\n",
    "fpr, tpr, thresholds = roc_curve(y_test, y_pred)\n",
    "print(\"AUC: %s\" % auc(fpr, tpr))\n"
   ]
  },
  {
   "cell_type": "code",
   "execution_count": 415,
   "metadata": {},
   "outputs": [
    {
     "name": "stdout",
     "output_type": "stream",
     "text": [
      "Best score: 0.7719628469376499\n",
      "Best params: {'clf__weights': [1, 0.7, 0.7], 'pre__pipeline-2__enc__n_features': 12, 'sam__sampling_strategy': 0.026, 'sel__k': 180}\n",
      "              precision    recall  f1-score   support\n",
      "\n",
      "           0       1.00      0.57      0.73      8472\n",
      "           1       0.03      0.83      0.05       121\n",
      "\n",
      "    accuracy                           0.58      8593\n",
      "   macro avg       0.51      0.70      0.39      8593\n",
      "weighted avg       0.98      0.58      0.72      8593\n",
      "\n",
      "AUC: 0.703120244422073\n"
     ]
    }
   ],
   "source": [
    "print(\"Best score: %s\" % model.best_score_)\n",
    "print(\"Best params: %s\" % model.best_params_)\n",
    "\n",
    "y_pred = model.predict(X_test)\n",
    "\n",
    "print(classification_report(y_test, y_pred))\n",
    "fpr, tpr, thresholds = roc_curve(y_test, y_pred)\n",
    "print(\"AUC: %s\" % auc(fpr, tpr))\n"
   ]
  },
  {
   "cell_type": "code",
   "execution_count": 494,
   "metadata": {},
   "outputs": [],
   "source": [
    "preprocessor = make_column_transformer(\n",
    "    (Pipeline([\n",
    "        ('num', SimpleImputer()),\n",
    "        ('sc', StandardScaler()),\n",
    "    ]), numerical_vars_mail),\n",
    "    (Pipeline([\n",
    "        ('num', SimpleImputer(strategy='constant', fill_value='unknown')),\n",
    "        ('enc', FeatureHasher(input_type='string')),\n",
    "    ]), categorical_vars_mail),\n",
    "    remainder='drop'\n",
    ")\n",
    "\n",
    "pipeline = Pipeline([\n",
    "    ('pre', preprocessor),\n",
    "    ('sel', SelectKBest()),\n",
    "    ('sam', SMOTE()),\n",
    "    ('clf', SGDClassifier(random_state=42, loss='log', penalty='elasticnet', l1_ratio=0.7, class_weight={0:0.01, 1:1})),\n",
    "])\n"
   ]
  },
  {
   "cell_type": "code",
   "execution_count": 497,
   "metadata": {},
   "outputs": [
    {
     "name": "stdout",
     "output_type": "stream",
     "text": [
      "Fitting 5 folds for each of 2 candidates, totalling 10 fits\n"
     ]
    },
    {
     "name": "stderr",
     "output_type": "stream",
     "text": [
      "[Parallel(n_jobs=4)]: Using backend LokyBackend with 4 concurrent workers.\n",
      "[Parallel(n_jobs=4)]: Done  10 out of  10 | elapsed:   47.5s finished\n",
      "/Users/eduardoburgoa/anaconda3/lib/python3.7/site-packages/sklearn/feature_selection/_univariate_selection.py:114: UserWarning: Features [0 0 0 ... 0 0 0] are constant.\n",
      "  UserWarning)\n",
      "/Users/eduardoburgoa/anaconda3/lib/python3.7/site-packages/sklearn/feature_selection/_univariate_selection.py:115: RuntimeWarning: divide by zero encountered in true_divide\n",
      "  f = msb / msw\n",
      "/Users/eduardoburgoa/anaconda3/lib/python3.7/site-packages/sklearn/feature_selection/_univariate_selection.py:115: RuntimeWarning: invalid value encountered in true_divide\n",
      "  f = msb / msw\n"
     ]
    }
   ],
   "source": [
    "parameters = {\n",
    "    'sel__k': [180],\n",
    "    'sam__sampling_strategy': [0.026],\n",
    "    'clf__l1_ratio': [0.7],\n",
    "}\n",
    "\n",
    "model = GridSearchCV(pipeline, param_grid=parameters, scoring='roc_auc', n_jobs=4, verbose=2)\n",
    "\n",
    "model.fit(X_train, y_train);"
   ]
  },
  {
   "cell_type": "code",
   "execution_count": 498,
   "metadata": {},
   "outputs": [
    {
     "name": "stdout",
     "output_type": "stream",
     "text": [
      "Best score: 0.6591471676168688\n",
      "Best params: {'clf__l1_ratio': 0.7, 'sam__sampling_strategy': 0.026, 'sel__k': 180}\n",
      "              precision    recall  f1-score   support\n",
      "\n",
      "           0       1.00      0.39      0.56      8472\n",
      "           1       0.02      0.87      0.04       121\n",
      "\n",
      "    accuracy                           0.39      8593\n",
      "   macro avg       0.51      0.63      0.30      8593\n",
      "weighted avg       0.98      0.39      0.55      8593\n",
      "\n",
      "AUC: 0.6265188584271768\n"
     ]
    }
   ],
   "source": [
    "print(\"Best score: %s\" % model.best_score_)\n",
    "print(\"Best params: %s\" % model.best_params_)\n",
    "\n",
    "y_pred = model.predict(X_test)\n",
    "\n",
    "print(classification_report(y_test, y_pred))\n",
    "fpr, tpr, thresholds = roc_curve(y_test, y_pred)\n",
    "print(\"AUC: %s\" % auc(fpr, tpr))\n"
   ]
  },
  {
   "cell_type": "code",
   "execution_count": 84,
   "metadata": {},
   "outputs": [],
   "source": [
    "preprocessor = make_column_transformer(\n",
    "    (Pipeline([\n",
    "        ('num', SimpleImputer()),\n",
    "        ('sc', StandardScaler()),\n",
    "    ]), numerical_vars_mail),\n",
    "    (Pipeline([\n",
    "        ('num', SimpleImputer(strategy='constant', fill_value='unknown')),\n",
    "        ('enc', FeatureHasher(input_type='string')),\n",
    "    ]), categorical_vars_mail),\n",
    "    remainder='drop'\n",
    ")\n",
    "\n",
    "pipeline = Pipeline([\n",
    "    ('pre', preprocessor),\n",
    "    ('sel', SelectKBest()),\n",
    "    ('clf', RUSBoostClassifier(random_state=42)),\n",
    "])\n"
   ]
  },
  {
   "cell_type": "code",
   "execution_count": 87,
   "metadata": {},
   "outputs": [
    {
     "name": "stdout",
     "output_type": "stream",
     "text": [
      "Fitting 5 folds for each of 2 candidates, totalling 10 fits\n"
     ]
    },
    {
     "name": "stderr",
     "output_type": "stream",
     "text": [
      "[Parallel(n_jobs=4)]: Using backend LokyBackend with 4 concurrent workers.\n",
      "[Parallel(n_jobs=4)]: Done  10 out of  10 | elapsed:   55.4s finished\n",
      "/Users/eduardoburgoa/anaconda3/lib/python3.7/site-packages/sklearn/feature_selection/_univariate_selection.py:114: UserWarning: Features [0 0 0 ... 0 0 0] are constant.\n",
      "  UserWarning)\n",
      "/Users/eduardoburgoa/anaconda3/lib/python3.7/site-packages/sklearn/feature_selection/_univariate_selection.py:115: RuntimeWarning: divide by zero encountered in true_divide\n",
      "  f = msb / msw\n",
      "/Users/eduardoburgoa/anaconda3/lib/python3.7/site-packages/sklearn/feature_selection/_univariate_selection.py:115: RuntimeWarning: invalid value encountered in true_divide\n",
      "  f = msb / msw\n"
     ]
    }
   ],
   "source": [
    "parameters = {\n",
    "    'sel__k': [180],\n",
    "    'clf__n_estimators': [50],\n",
    "    'clf__replacement': [False],\n",
    "\n",
    "}\n",
    "\n",
    "model = GridSearchCV(pipeline, param_grid=parameters, scoring='roc_auc', n_jobs=4, verbose=2)\n",
    "\n",
    "model.fit(X_train, y_train);"
   ]
  },
  {
   "cell_type": "code",
   "execution_count": 88,
   "metadata": {},
   "outputs": [
    {
     "name": "stdout",
     "output_type": "stream",
     "text": [
      "Best score: 0.6623903807830198\n",
      "Best params: {'clf__n_estimators': 50, 'clf__replacement': False, 'sel__k': 180}\n",
      "              precision    recall  f1-score   support\n",
      "\n",
      "           0       0.99      0.65      0.79      8472\n",
      "           1       0.02      0.51      0.04       121\n",
      "\n",
      "    accuracy                           0.65      8593\n",
      "   macro avg       0.50      0.58      0.41      8593\n",
      "weighted avg       0.98      0.65      0.77      8593\n",
      "\n",
      "AUC: 0.5816232762859083\n"
     ]
    }
   ],
   "source": [
    "print(\"Best score: %s\" % model.best_score_)\n",
    "print(\"Best params: %s\" % model.best_params_)\n",
    "\n",
    "y_pred = model.predict(X_test)\n",
    "\n",
    "print(classification_report(y_test, y_pred))\n",
    "fpr, tpr, thresholds = roc_curve(y_test, y_pred)\n",
    "print(\"AUC: %s\" % auc(fpr, tpr))\n"
   ]
  },
  {
   "cell_type": "code",
   "execution_count": null,
   "metadata": {},
   "outputs": [],
   "source": []
  },
  {
   "cell_type": "code",
   "execution_count": 89,
   "metadata": {},
   "outputs": [],
   "source": [
    "preprocessor = make_column_transformer(\n",
    "    (Pipeline([\n",
    "        ('num', SimpleImputer()),\n",
    "        ('sc', StandardScaler()),\n",
    "    ]), numerical_vars_mail),\n",
    "    (Pipeline([\n",
    "        ('num', SimpleImputer(strategy='constant', fill_value='unknown')),\n",
    "        ('enc', FeatureHasher(input_type='string')),\n",
    "    ]), categorical_vars_mail),\n",
    "    remainder='drop'\n",
    ")\n",
    "\n",
    "pipeline = Pipeline([\n",
    "    ('pre', preprocessor),\n",
    "    ('sel', SelectKBest()),\n",
    "    ('sam', SMOTE(random_state=42)),\n",
    "    ('clf', BalancedRandomForestClassifier(random_state=42)),\n",
    "])"
   ]
  },
  {
   "cell_type": "code",
   "execution_count": 90,
   "metadata": {},
   "outputs": [
    {
     "name": "stdout",
     "output_type": "stream",
     "text": [
      "Fitting 5 folds for each of 2 candidates, totalling 10 fits\n"
     ]
    },
    {
     "name": "stderr",
     "output_type": "stream",
     "text": [
      "[Parallel(n_jobs=4)]: Using backend LokyBackend with 4 concurrent workers.\n",
      "[Parallel(n_jobs=4)]: Done  10 out of  10 | elapsed:  1.2min finished\n",
      "/Users/eduardoburgoa/anaconda3/lib/python3.7/site-packages/sklearn/feature_selection/_univariate_selection.py:114: UserWarning: Features [0 0 0 ... 0 0 0] are constant.\n",
      "  UserWarning)\n",
      "/Users/eduardoburgoa/anaconda3/lib/python3.7/site-packages/sklearn/feature_selection/_univariate_selection.py:115: RuntimeWarning: divide by zero encountered in true_divide\n",
      "  f = msb / msw\n",
      "/Users/eduardoburgoa/anaconda3/lib/python3.7/site-packages/sklearn/feature_selection/_univariate_selection.py:115: RuntimeWarning: invalid value encountered in true_divide\n",
      "  f = msb / msw\n"
     ]
    }
   ],
   "source": [
    "parameters = {\n",
    "    'sel__k': [180],\n",
    "    'clf__min_weight_fraction_leaf': [0.0],\n",
    "    'sam__sampling_strategy': [0.026],\n",
    "    'clf__ccp_alpha': [0.0],\n",
    "    'clf__max_depth': [4],\n",
    "    'clf__n_estimators': [50, 200],\n",
    "    'clf__max_samples': [0.05],\n",
    "    'clf__class_weight': [{0:0.9, 1:1}],\n",
    "    'clf__max_features': [0.5]\n",
    "}\n",
    "\n",
    "model = GridSearchCV(pipeline, param_grid=parameters, scoring='roc_auc', n_jobs=4, verbose=2)\n",
    "\n",
    "model.fit(X_train, y_train);"
   ]
  },
  {
   "cell_type": "code",
   "execution_count": 91,
   "metadata": {},
   "outputs": [
    {
     "name": "stdout",
     "output_type": "stream",
     "text": [
      "Best score: 0.7661671149812083\n",
      "Best params: {'clf__ccp_alpha': 0.0, 'clf__class_weight': {0: 0.9, 1: 1}, 'clf__max_depth': 4, 'clf__max_features': 0.5, 'clf__max_samples': 0.05, 'clf__min_weight_fraction_leaf': 0.0, 'clf__n_estimators': 200, 'sam__sampling_strategy': 0.026, 'sel__k': 180}\n",
      "              precision    recall  f1-score   support\n",
      "\n",
      "           0       1.00      0.56      0.72      8472\n",
      "           1       0.03      0.83      0.05       121\n",
      "\n",
      "    accuracy                           0.56      8593\n",
      "   macro avg       0.51      0.70      0.38      8593\n",
      "weighted avg       0.98      0.56      0.71      8593\n",
      "\n",
      "AUC: 0.6971594323351986\n"
     ]
    }
   ],
   "source": [
    "print(\"Best score: %s\" % model.best_score_)\n",
    "print(\"Best params: %s\" % model.best_params_)\n",
    "\n",
    "y_pred = model.predict(X_test)\n",
    "\n",
    "print(classification_report(y_test, y_pred))\n",
    "fpr, tpr, thresholds = roc_curve(y_test, y_pred)\n",
    "print(\"AUC: %s\" % auc(fpr, tpr))\n"
   ]
  },
  {
   "cell_type": "code",
   "execution_count": 164,
   "metadata": {},
   "outputs": [
    {
     "data": {
      "text/plain": [
       "(34369, 366)"
      ]
     },
     "execution_count": 164,
     "metadata": {},
     "output_type": "execute_result"
    }
   ],
   "source": [
    "X_train.shape"
   ]
  },
  {
   "cell_type": "code",
   "execution_count": null,
   "metadata": {},
   "outputs": [],
   "source": []
  },
  {
   "cell_type": "code",
   "execution_count": 98,
   "metadata": {},
   "outputs": [
    {
     "data": {
      "image/png": "[encoded data removed]",
      "text/plain": [
       "<Figure size 432x288 with 1 Axes>"
      ]
     },
     "metadata": {
      "needs_background": "light"
     },
     "output_type": "display_data"
    }
   ],
   "source": [
    "ax = plt.gca()\n",
    "plot_roc_curve(model, X_train, y_train, ax=ax, alpha=0.8)\n",
    "plot_roc_curve(model, X_test, y_test, ax=ax, alpha=0.8);\n"
   ]
  },
  {
   "cell_type": "markdown",
   "metadata": {},
   "source": [
    "## Part 3: Kaggle Competition\n",
    "\n",
    "Now that you've created a model to predict which individuals are most likely to respond to a mailout campaign, it's time to test that model in competition through Kaggle. If you click on the link [here](http://www.kaggle.com/t/21e6d45d4c574c7fa2d868f0e8c83140), you'll be taken to the competition page where, if you have a Kaggle account, you can enter. If you're one of the top performers, you may have the chance to be contacted by a hiring manager from Arvato or Bertelsmann for an interview!\n",
    "\n",
    "Your entry to the competition should be a CSV file with two columns. The first column should be a copy of \"LNR\", which acts as an ID number for each individual in the \"TEST\" partition. The second column, \"RESPONSE\", should be some measure of how likely each individual became a customer – this might not be a straightforward probability. As you should have found in Part 2, there is a large output class imbalance, where most individuals did not respond to the mailout. Thus, predicting individual classes and using accuracy does not seem to be an appropriate performance evaluation method. Instead, the competition will be using AUC to evaluate performance. The exact values of the \"RESPONSE\" column do not matter as much: only that the higher values try to capture as many of the actual customers as possible, early in the ROC curve sweep."
   ]
  },
  {
   "cell_type": "code",
   "execution_count": 99,
   "metadata": {},
   "outputs": [
    {
     "name": "stderr",
     "output_type": "stream",
     "text": [
      "/Users/eduardoburgoa/anaconda3/lib/python3.7/site-packages/IPython/core/interactiveshell.py:3057: DtypeWarning: Columns (18,19) have mixed types. Specify dtype option on import or set low_memory=False.\n",
      "  interactivity=interactivity, compiler=compiler, result=result)\n"
     ]
    }
   ],
   "source": [
    "mailout_test = pd.read_csv('data/Term2/capstone/arvato_data/Udacity_MAILOUT_052018_TEST.csv', sep=';')"
   ]
  },
  {
   "cell_type": "code",
   "execution_count": 100,
   "metadata": {},
   "outputs": [
    {
     "data": {
      "text/plain": [
       "(42833, 366)"
      ]
     },
     "execution_count": 100,
     "metadata": {},
     "output_type": "execute_result"
    }
   ],
   "source": [
    "mailout_test.shape"
   ]
  },
  {
   "cell_type": "code",
   "execution_count": 102,
   "metadata": {},
   "outputs": [],
   "source": [
    "mailout_test_clean = clean_dataset(mailout_test)"
   ]
  },
  {
   "cell_type": "code",
   "execution_count": 103,
   "metadata": {},
   "outputs": [
    {
     "data": {
      "text/plain": [
       "(42833, 360)"
      ]
     },
     "execution_count": 103,
     "metadata": {},
     "output_type": "execute_result"
    }
   ],
   "source": [
    "mailout_test_clean.shape"
   ]
  },
  {
   "cell_type": "code",
   "execution_count": 104,
   "metadata": {},
   "outputs": [
    {
     "name": "stderr",
     "output_type": "stream",
     "text": [
      "/Users/eduardoburgoa/anaconda3/lib/python3.7/site-packages/sklearn/compose/_column_transformer.py:430: FutureWarning: Given feature/column names or counts do not match the ones for the data given during fit. This will fail from v0.24.\n",
      "  FutureWarning)\n"
     ]
    }
   ],
   "source": [
    "y_score = model.predict_proba(mailout_test_clean)"
   ]
  },
  {
   "cell_type": "code",
   "execution_count": 105,
   "metadata": {},
   "outputs": [
    {
     "data": {
      "text/plain": [
       "0.4195245052335746"
      ]
     },
     "execution_count": 105,
     "metadata": {},
     "output_type": "execute_result"
    }
   ],
   "source": [
    "y_score[:, 1].mean()"
   ]
  },
  {
   "cell_type": "code",
   "execution_count": 106,
   "metadata": {},
   "outputs": [],
   "source": [
    "competition = pd.DataFrame()"
   ]
  },
  {
   "cell_type": "code",
   "execution_count": 107,
   "metadata": {},
   "outputs": [],
   "source": [
    "competition['LNR'] = mailout_test_clean['LNR']\n",
    "competition['RESPONSE'] = y_score[:, 1]"
   ]
  },
  {
   "cell_type": "code",
   "execution_count": 108,
   "metadata": {},
   "outputs": [],
   "source": [
    "competition.to_csv('competition.csv', index=False)"
   ]
  },
  {
   "cell_type": "code",
   "execution_count": 223,
   "metadata": {},
   "outputs": [
    {
     "data": {
      "text/plain": [
       "(42833, 2)"
      ]
     },
     "execution_count": 223,
     "metadata": {},
     "output_type": "execute_result"
    }
   ],
   "source": [
    "competition.shape"
   ]
  },
  {
   "cell_type": "code",
   "execution_count": null,
   "metadata": {},
   "outputs": [],
   "source": []
  }
 ],
 "metadata": {
  "kernelspec": {
   "display_name": "Python 3",
   "language": "python",
   "name": "python3"
  },
  "language_info": {
   "codemirror_mode": {
    "name": "ipython",
    "version": 3
   },
   "file_extension": ".py",
   "mimetype": "text/x-python",
   "name": "python",
   "nbconvert_exporter": "python",
   "pygments_lexer": "ipython3",
   "version": "3.7.3"
  }
 },
 "nbformat": 4,
 "nbformat_minor": 2
}
